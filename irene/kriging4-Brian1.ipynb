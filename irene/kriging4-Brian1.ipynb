{
 "metadata": {
  "name": ""
 },
 "nbformat": 3,
 "nbformat_minor": 0,
 "worksheets": [
  {
   "cells": [
    {
     "cell_type": "heading",
     "level": 4,
     "metadata": {},
     "source": [
      "This file focuses on marginal likelihood as a way of evaluating models"
     ]
    },
    {
     "cell_type": "code",
     "collapsed": false,
     "input": [
      "import csv\n",
      "import numpy as np\n",
      "%matplotlib inline\n",
      "import matplotlib\n",
      "import matplotlib.pyplot as plt\n",
      "# from mpl_toolkits.basemap import Basemap\n",
      "from scipy.stats import poisson\n",
      "import math\n",
      "from random import randrange\n",
      "\n",
      "import csv\n",
      "import time"
     ],
     "language": "python",
     "metadata": {},
     "outputs": [],
     "prompt_number": 3
    },
    {
     "cell_type": "code",
     "collapsed": false,
     "input": [
      "f = open('../data/manhattan_train.csv', 'rb')\n",
      "freader = csv.reader(f)\n",
      "data = list(freader)[1:]\n",
      "lon, lat, counts = zip(*data)\n",
      "\n",
      "lon_coords = [float(i) for i in lon]\n",
      "lat_coords = [float(i) for i in lat]\n",
      "counts = np.array([float(i) for i in counts])\n",
      "\n",
      "loc = np.array(zip(lon_coords, lat_coords))\n",
      "log_counts = np.log(counts)"
     ],
     "language": "python",
     "metadata": {},
     "outputs": [],
     "prompt_number": 7
    },
    {
     "cell_type": "code",
     "collapsed": false,
     "input": [
      "def matern_3(x,L):\n",
      "    return (1+math.sqrt(3)*x/L)*np.exp(-math.sqrt(3)*x/L)\n",
      "\n",
      "def g(x,L):\n",
      "    return (3*np.square(x)/L**3)*np.exp(-math.sqrt(3)*x/L)"
     ],
     "language": "python",
     "metadata": {},
     "outputs": [],
     "prompt_number": 8
    },
    {
     "cell_type": "code",
     "collapsed": false,
     "input": [
      "FACTOR = 0.7581\n",
      "EARTH_RADIUS = 3959\n",
      "\n",
      "def build_distance_matrix(locs1, locs2):\n",
      "    lons1, lats1 = locs1[:,0], locs1[:,1]\n",
      "    lons2, lats2 = locs2[:,0], locs2[:,1]\n",
      "    dlon12 = lons2 - lons1[:, None]\n",
      "    dlat12 = lats2 - lats1[:, None]\n",
      "    D12 = np.sqrt(np.square(dlon12*FACTOR) + np.square(dlat12))\n",
      "    D12 = D12/360*(2*math.pi)*EARTH_RADIUS\n",
      "    return D12"
     ],
     "language": "python",
     "metadata": {},
     "outputs": [],
     "prompt_number": 9
    },
    {
     "cell_type": "code",
     "collapsed": false,
     "input": [
      "# Step 5: Define a function f = log marginal likelihood, as a function of L, sigma_f, sigma_n\n",
      "def log_determinant(nparray):\n",
      "    n = len(nparray)\n",
      "#    biggest = 30\n",
      "    biggest = np.max(nparray)\n",
      "    done = False\n",
      "    while not done:\n",
      "        try:\n",
      "            log_determinant = math.log(np.linalg.det(nparray / biggest)) + n * math.log(biggest)\n",
      "            done = True\n",
      "            if math.isinf(log_determinant):\n",
      "#                print 'hi', biggest\n",
      "                biggest = biggest * 2.\n",
      "                done = False\n",
      "        except ValueError:\n",
      "#            print 'value error', biggest\n",
      "            biggest = biggest / 1.5\n",
      "    print 'log_det', log_determinant\n",
      "    return log_determinant\n",
      "    \n",
      "def all_values(L, sigma_f, sigma_n, loc, log_counts):\n",
      "    distances = build_distance_matrix(loc, loc)\n",
      "    M = matern_3(distances, L)\n",
      "    n = len(M)\n",
      "    G = g(distances, L)\n",
      "    K = sigma_f*M + sigma_n*np.eye(n)\n",
      "    K_inv = np.linalg.inv(K)\n",
      "    log_ml = -0.5*np.dot(np.dot(np.transpose(log_counts), K_inv), log_counts)-0.5*log_determinant(K)-n/2.*math.log(2*math.pi)\n",
      "#    print -0.5*np.dot(np.dot(np.transpose(log_counts), K_inv), log_counts), -0.5*log_determinant(K), -n/2.*math.log(2*math.pi)\n",
      "    \n",
      "    alpha = np.dot(K_inv, log_counts)\n",
      "    inner = np.dot(alpha, np.transpose(alpha)) - K_inv\n",
      "    d_sigma_f = 0.5 * np.trace(np.dot(inner, M))\n",
      "    d_sigma_n = 0.5 * np.trace(inner)\n",
      "    d_L = 0.5 * np.trace(np.dot(inner, sigma_f * G))\n",
      "    return log_ml, d_L, d_sigma_f, d_sigma_n"
     ],
     "language": "python",
     "metadata": {},
     "outputs": [],
     "prompt_number": 95
    },
    {
     "cell_type": "code",
     "collapsed": false,
     "input": [
      "x = np.array([[1, 2], [3, 4]])\n",
      "y = np.array([5,6])"
     ],
     "language": "python",
     "metadata": {},
     "outputs": [],
     "prompt_number": 125
    },
    {
     "cell_type": "code",
     "collapsed": false,
     "input": [
      "y[:, None]"
     ],
     "language": "python",
     "metadata": {},
     "outputs": [
      {
       "metadata": {},
       "output_type": "pyout",
       "prompt_number": 133,
       "text": [
        "array([[5],\n",
        "       [6]])"
       ]
      }
     ],
     "prompt_number": 133
    },
    {
     "cell_type": "code",
     "collapsed": false,
     "input": [
      "np.transpose(y)"
     ],
     "language": "python",
     "metadata": {},
     "outputs": [
      {
       "metadata": {},
       "output_type": "pyout",
       "prompt_number": 131,
       "text": [
        "array([5, 6])"
       ]
      }
     ],
     "prompt_number": 131
    },
    {
     "cell_type": "code",
     "collapsed": false,
     "input": [
      "# print len(loc_small)\n",
      "# log_counts_small = np.log(counts_small)\n",
      "\n",
      "start = time.time()\n",
      "all_info = all_values(5, 100, 25, loc, log_counts)\n",
      "end = time.time()\n",
      "print end - start\n",
      "print all_info"
     ],
     "language": "python",
     "metadata": {},
     "outputs": [
      {
       "output_type": "stream",
       "stream": "stdout",
       "text": [
        "log_det 10215.925746\n",
        "12.3229999542"
       ]
      },
      {
       "output_type": "stream",
       "stream": "stdout",
       "text": [
        "\n",
        "(-8088.0027696980287, 238523925.51378322, 22698681.651881468, 11137.923447148296)\n"
       ]
      }
     ],
     "prompt_number": 120
    },
    {
     "cell_type": "code",
     "collapsed": false,
     "input": [
      "L = 0.25\n",
      "sigma_f = 9\n",
      "sigma_n = 25\n",
      "\n",
      "for i in range(10):\n",
      "    print L, sigma_f, sigma_n\n",
      "    all_info = all_values(0.25, 9, 25, loc_small, log_counts_small)\n",
      "    print all_info\n"
     ],
     "language": "python",
     "metadata": {},
     "outputs": [
      {
       "output_type": "stream",
       "stream": "stdout",
       "text": [
        "0.25 9 25\n",
        "(-inf, 54.021315396587184, 18.596192742998237, 2218.0839777461547)\n",
        "0.25 9 25\n",
        "(-inf, 54.021315396587184, 18.596192742998237, 2218.0839777461547)\n",
        "0.25 9 25\n",
        "(-inf, 54.021315396587184, 18.596192742998237, 2218.0839777461547)\n",
        "0.25 9 25\n",
        "(-inf, 54.021315396587184, 18.596192742998237, 2218.0839777461547)"
       ]
      },
      {
       "output_type": "stream",
       "stream": "stdout",
       "text": [
        "\n",
        "0.25 9 25\n",
        "(-inf, 54.021315396587184, 18.596192742998237, 2218.0839777461547)\n",
        "0.25 9 25\n",
        "(-inf, 54.021315396587184, 18.596192742998237, 2218.0839777461547)\n",
        "0.25 9 25\n",
        "(-inf, 54.021315396587184, 18.596192742998237, 2218.0839777461547)\n",
        "0.25 9 25\n",
        "(-inf, 54.021315396587184, 18.596192742998237, 2218.0839777461547)\n",
        "0.25 9 25\n",
        "(-inf, 54.021315396587184, 18.596192742998237, 2218.0839777461547)\n",
        "0.25 9 25\n",
        "(-inf, 54.021315396587184, 18.596192742998237, 2218.0839777461547)\n"
       ]
      }
     ],
     "prompt_number": 32
    },
    {
     "cell_type": "code",
     "collapsed": false,
     "input": [
      "# testing above 5 steps\n",
      "f = open('../data/manhattan_small.csv', 'rb')\n",
      "csvreader = csv.reader(f)\n",
      "small_data = list(csvreader)[1:]\n",
      "\n",
      "lon_small, lat_small, counts_small = zip(*small_data)\n",
      "\n",
      "lon_small = [float(i) for i in lon_small]\n",
      "lat_small = [float(i) for i in lat_small]\n",
      "counts_small = np.array([float(i) for i in counts_small])\n",
      "\n",
      "loc_small = np.array(zip(lon_small, lat_small))\n",
      "\n",
      "log_counts_small = np.log(counts_small)"
     ],
     "language": "python",
     "metadata": {},
     "outputs": [],
     "prompt_number": 28
    },
    {
     "cell_type": "markdown",
     "metadata": {},
     "source": [
      "-----------------------------\n",
      "------------------------------\n",
      "--------------"
     ]
    }
   ],
   "metadata": {}
  }
 ]
}