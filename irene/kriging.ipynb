{
 "metadata": {
  "name": ""
 },
 "nbformat": 3,
 "nbformat_minor": 0,
 "worksheets": [
  {
   "cells": [
    {
     "cell_type": "code",
     "collapsed": false,
     "input": [
      "%matplotlib inline\n",
      "from matplotlib import pyplot as plt\n",
      "import numpy as np\n",
      "import math\n",
      "\n",
      "import scipy"
     ],
     "language": "python",
     "metadata": {},
     "outputs": [],
     "prompt_number": 77
    },
    {
     "cell_type": "code",
     "collapsed": false,
     "input": [
      "def sq_exp(x,L):\n",
      "    return math.e**(-0.5*(x**0.5)  / (L**2))\n",
      "\n",
      "def matern_1(x,L):\n",
      "    return math.e**(-x/L)\n",
      "\n",
      "def matern_3(x,L):\n",
      "    return (1 + 3**0.5 * x/L) * (math.e**(-3**0.5 * x/L))\n",
      "\n",
      "def matern_5(x,L):\n",
      "    return (1 + 5**0.5 * x/L + 5*x**2 / (3 * L**2)) * (math.e**(-5**0.5 * x/L))"
     ],
     "language": "python",
     "metadata": {},
     "outputs": [],
     "prompt_number": 8
    },
    {
     "cell_type": "code",
     "collapsed": false,
     "input": [
      "L = 0.3\n",
      "covar_fun = lambda x: matern_5(x,L)\n",
      "\n",
      "X = (np.arange(0,1.005,0.005))\n",
      "# add extra dimension\n",
      "X = X[None].T\n",
      "\n",
      "N = len(X)\n",
      "K = covar_fun(abs(np.subtract(X, np.transpose(X))))\n",
      "eps = 10**(-6)\n",
      "Y = np.dot(np.transpose(scipy.linalg.cholesky(K + eps * np.eye(N), lower=False)),np.random.randn(N,1))"
     ],
     "language": "python",
     "metadata": {},
     "outputs": [],
     "prompt_number": 95
    },
    {
     "cell_type": "code",
     "collapsed": false,
     "input": [
      "plt.plot(X,Y)\n",
      "plt.show()"
     ],
     "language": "python",
     "metadata": {},
     "outputs": [
      {
       "metadata": {},
       "output_type": "display_data",
       "png": "[encoded data removed]",
       "text": [
        "<matplotlib.figure.Figure at 0x5c3ebd0>"
       ]
      }
     ],
     "prompt_number": 97
    },
    {
     "cell_type": "code",
     "collapsed": false,
     "input": [
      "num_samps = 10\n",
      "samps = [i[0] for i in np.random.random_integers(1,high=N, size=(num_samps,1))]\n",
      "XData = X[samps]\n",
      "YData = Y[samps]"
     ],
     "language": "python",
     "metadata": {},
     "outputs": [],
     "prompt_number": 119
    },
    {
     "cell_type": "code",
     "collapsed": false,
     "input": [
      "L = 0.2\n",
      "sigma = 0.1\n",
      "covar_fun = lambda x: matern_5(x,L)\n",
      "\n",
      "Kpp = covar_fun(abs(np.subtract(X, np.transpose(X))))\n",
      "Kpd = covar_fun(abs(np.subtract(X, np.transpose(XData))))\n",
      "Kdd = covar_fun(abs(np.subtract(XData, np.transpose(XData))))\n",
      "\n",
      "fun_mean = np.dot(Kpd, (np.linalg.solve(Kdd +\n",
      "            np.dot(sigma**2, np.eye(num_samps)),YData)))\n",
      "\n",
      "fun_sigma = np.diag(Kpp - np.dot(np.dot(Kpd, \n",
      "            (Kdd + sigma**2 * np.eye(num_samps))**(-1)), np.transpose(Kpd)))\n",
      "fun_sigma = fun_sigma[None].T"
     ],
     "language": "python",
     "metadata": {},
     "outputs": [],
     "prompt_number": 154
    },
    {
     "cell_type": "code",
     "collapsed": false,
     "input": [
      "plus = fun_mean + fun_sigma\n",
      "minus = fun_mean - fun_sigma"
     ],
     "language": "python",
     "metadata": {},
     "outputs": [],
     "prompt_number": 166
    },
    {
     "cell_type": "code",
     "collapsed": false,
     "input": [
      "# plt.plot(X, plus, 'r')\n",
      "# plt.plot(X, minus, 'b')\n",
      "plt.plot(XData, YData, 'xk')\n",
      "plt.plot(X,Y, 'k')"
     ],
     "language": "python",
     "metadata": {},
     "outputs": [
      {
       "metadata": {},
       "output_type": "pyout",
       "prompt_number": 178,
       "text": [
        "[<matplotlib.lines.Line2D at 0x6b576b0>]"
       ]
      },
      {
       "metadata": {},
       "output_type": "display_data",
       "png": "[encoded data removed]",
       "text": [
        "<matplotlib.figure.Figure at 0x6b572b0>"
       ]
      }
     ],
     "prompt_number": 178
    },
    {
     "cell_type": "code",
     "collapsed": false,
     "input": [
      "abs(np.subtract(X, np.transpose(X)))[:,9]"
     ],
     "language": "python",
     "metadata": {},
     "outputs": [
      {
       "metadata": {},
       "output_type": "pyout",
       "prompt_number": 136,
       "text": [
        "array([ 0.045,  0.04 ,  0.035,  0.03 ,  0.025,  0.02 ,  0.015,  0.01 ,\n",
        "        0.005,  0.   ,  0.005,  0.01 ,  0.015,  0.02 ,  0.025,  0.03 ,\n",
        "        0.035,  0.04 ,  0.045,  0.05 ,  0.055,  0.06 ,  0.065,  0.07 ,\n",
        "        0.075,  0.08 ,  0.085,  0.09 ,  0.095,  0.1  ,  0.105,  0.11 ,\n",
        "        0.115,  0.12 ,  0.125,  0.13 ,  0.135,  0.14 ,  0.145,  0.15 ,\n",
        "        0.155,  0.16 ,  0.165,  0.17 ,  0.175,  0.18 ,  0.185,  0.19 ,\n",
        "        0.195,  0.2  ,  0.205,  0.21 ,  0.215,  0.22 ,  0.225,  0.23 ,\n",
        "        0.235,  0.24 ,  0.245,  0.25 ,  0.255,  0.26 ,  0.265,  0.27 ,\n",
        "        0.275,  0.28 ,  0.285,  0.29 ,  0.295,  0.3  ,  0.305,  0.31 ,\n",
        "        0.315,  0.32 ,  0.325,  0.33 ,  0.335,  0.34 ,  0.345,  0.35 ,\n",
        "        0.355,  0.36 ,  0.365,  0.37 ,  0.375,  0.38 ,  0.385,  0.39 ,\n",
        "        0.395,  0.4  ,  0.405,  0.41 ,  0.415,  0.42 ,  0.425,  0.43 ,\n",
        "        0.435,  0.44 ,  0.445,  0.45 ,  0.455,  0.46 ,  0.465,  0.47 ,\n",
        "        0.475,  0.48 ,  0.485,  0.49 ,  0.495,  0.5  ,  0.505,  0.51 ,\n",
        "        0.515,  0.52 ,  0.525,  0.53 ,  0.535,  0.54 ,  0.545,  0.55 ,\n",
        "        0.555,  0.56 ,  0.565,  0.57 ,  0.575,  0.58 ,  0.585,  0.59 ,\n",
        "        0.595,  0.6  ,  0.605,  0.61 ,  0.615,  0.62 ,  0.625,  0.63 ,\n",
        "        0.635,  0.64 ,  0.645,  0.65 ,  0.655,  0.66 ,  0.665,  0.67 ,\n",
        "        0.675,  0.68 ,  0.685,  0.69 ,  0.695,  0.7  ,  0.705,  0.71 ,\n",
        "        0.715,  0.72 ,  0.725,  0.73 ,  0.735,  0.74 ,  0.745,  0.75 ,\n",
        "        0.755,  0.76 ,  0.765,  0.77 ,  0.775,  0.78 ,  0.785,  0.79 ,\n",
        "        0.795,  0.8  ,  0.805,  0.81 ,  0.815,  0.82 ,  0.825,  0.83 ,\n",
        "        0.835,  0.84 ,  0.845,  0.85 ,  0.855,  0.86 ,  0.865,  0.87 ,\n",
        "        0.875,  0.88 ,  0.885,  0.89 ,  0.895,  0.9  ,  0.905,  0.91 ,\n",
        "        0.915,  0.92 ,  0.925,  0.93 ,  0.935,  0.94 ,  0.945,  0.95 ,\n",
        "        0.955])"
       ]
      }
     ],
     "prompt_number": 136
    },
    {
     "cell_type": "code",
     "collapsed": false,
     "input": [
      "Kpp[:,9]"
     ],
     "language": "python",
     "metadata": {},
     "outputs": [
      {
       "metadata": {},
       "output_type": "pyout",
       "prompt_number": 138,
       "text": [
        "array([ 0.95986661,  0.96798612,  0.9752751 ,  0.98169218,  0.98719868,\n",
        "        0.99175924,  0.99534266,  0.9979228 ,  0.99947956,  1.        ,\n",
        "        0.99947956,  0.9979228 ,  0.99534266,  0.99175924,  0.98719868,\n",
        "        0.98169218,  0.9752751 ,  0.96798612,  0.95986661,  0.95095992,\n",
        "        0.9413109 ,  0.93096534,  0.9199696 ,  0.90837019,  0.89621346,\n",
        "        0.88354533,  0.87041104,  0.85685492,  0.84292027,  0.82864914,\n",
        "        0.8140823 ,  0.79925905,  0.78421723,  0.76899311,  0.75362136,\n",
        "        0.73813503,  0.72256555,  0.70694268,  0.69129459,  0.6756478 ,\n",
        "        0.66002725,  0.64445633,  0.62895686,  0.61354921,  0.59825228,\n",
        "        0.58308355,  0.56805917,  0.55319396,  0.53850149,  0.52399411,\n",
        "        0.50968302,  0.4955783 ,  0.481689  ,  0.46802315,  0.45458782,\n",
        "        0.4413892 ,  0.42843259,  0.41572251,  0.40326271,  0.39105623,\n",
        "        0.37910543,  0.36741204,  0.35597721,  0.34480154,  0.33388511,\n",
        "        0.32322753,  0.31282797,  0.30268521,  0.29279763,  0.28316327,\n",
        "        0.27377988,  0.2646449 ,  0.25575552,  0.24710868,  0.23870112,\n",
        "        0.2305294 ,  0.22258989,  0.21487881,  0.20739228,  0.20012626,\n",
        "        0.19307666,  0.18623927,  0.17960983,  0.17318404,  0.16695753,\n",
        "        0.16092591,  0.15508479,  0.14942974,  0.14395635,  0.13866022,\n",
        "        0.13353696,  0.12858219,  0.12379159,  0.11916086,  0.11468574,\n",
        "        0.11036202,  0.10618554,  0.10215219,  0.09825792,  0.09449877,\n",
        "        0.09087079,  0.08737015,  0.08399306,  0.0807358 ,  0.07759474,\n",
        "        0.07456632,  0.07164703,  0.06883346,  0.06612228,  0.06351021,\n",
        "        0.06099408,  0.05857078,  0.05623726,  0.05399057,  0.05182783,\n",
        "        0.04974623,  0.04774304,  0.0458156 ,  0.04396133,  0.0421777 ,\n",
        "        0.04046228,  0.03881269,  0.03722664,  0.03570187,  0.03423623,\n",
        "        0.03282761,  0.03147396,  0.03017332,  0.02892376,  0.02772342,\n",
        "        0.02657052,  0.0254633 ,  0.02440009,  0.02337926,  0.02239923,\n",
        "        0.02145847,  0.02055552,  0.01968895,  0.01885739,  0.0180595 ,\n",
        "        0.01729401,  0.01655967,  0.01585529,  0.01517972,  0.01453184,\n",
        "        0.01391058,  0.0133149 ,  0.01274381,  0.01219633,  0.01167155,\n",
        "        0.01116857,  0.01068652,  0.01022458,  0.00978194,  0.00935784,\n",
        "        0.00895154,  0.00856232,  0.00818949,  0.0078324 ,  0.0074904 ,\n",
        "        0.00716289,  0.00684928,  0.00654899,  0.00626149,  0.00598626,\n",
        "        0.00572278,  0.00547058,  0.0052292 ,  0.00499817,  0.00477708,\n",
        "        0.00456552,  0.00436308,  0.00416939,  0.00398408,  0.00380681,\n",
        "        0.00363722,  0.00347501,  0.00331986,  0.00317147,  0.00302956,\n",
        "        0.00289385,  0.00276409,  0.00264001,  0.00252138,  0.00240796,\n",
        "        0.00229953,  0.00219588,  0.0020968 ,  0.0020021 ,  0.00191158,\n",
        "        0.00182508,  0.00174241,  0.00166341,  0.00158792,  0.00151579,\n",
        "        0.00144687,  0.00138103,  0.00131812,  0.00125803,  0.00120063,\n",
        "        0.00114579])"
       ]
      }
     ],
     "prompt_number": 138
    },
    {
     "cell_type": "code",
     "collapsed": false,
     "input": [
      "Kpd[:,8]"
     ],
     "language": "python",
     "metadata": {},
     "outputs": [
      {
       "metadata": {},
       "output_type": "pyout",
       "prompt_number": 141,
       "text": [
        "array([ 0.4955783 ,  0.50968302,  0.52399411,  0.53850149,  0.55319396,\n",
        "        0.56805917,  0.58308355,  0.59825228,  0.61354921,  0.62895686,\n",
        "        0.64445633,  0.66002725,  0.6756478 ,  0.69129459,  0.70694268,\n",
        "        0.72256555,  0.73813503,  0.75362136,  0.76899311,  0.78421723,\n",
        "        0.79925905,  0.8140823 ,  0.82864914,  0.84292027,  0.85685492,\n",
        "        0.87041104,  0.88354533,  0.89621346,  0.90837019,  0.9199696 ,\n",
        "        0.93096534,  0.9413109 ,  0.95095992,  0.95986661,  0.96798612,\n",
        "        0.9752751 ,  0.98169218,  0.98719868,  0.99175924,  0.99534266,\n",
        "        0.9979228 ,  0.99947956,  1.        ,  0.99947956,  0.9979228 ,\n",
        "        0.99534266,  0.99175924,  0.98719868,  0.98169218,  0.9752751 ,\n",
        "        0.96798612,  0.95986661,  0.95095992,  0.9413109 ,  0.93096534,\n",
        "        0.9199696 ,  0.90837019,  0.89621346,  0.88354533,  0.87041104,\n",
        "        0.85685492,  0.84292027,  0.82864914,  0.8140823 ,  0.79925905,\n",
        "        0.78421723,  0.76899311,  0.75362136,  0.73813503,  0.72256555,\n",
        "        0.70694268,  0.69129459,  0.6756478 ,  0.66002725,  0.64445633,\n",
        "        0.62895686,  0.61354921,  0.59825228,  0.58308355,  0.56805917,\n",
        "        0.55319396,  0.53850149,  0.52399411,  0.50968302,  0.4955783 ,\n",
        "        0.481689  ,  0.46802315,  0.45458782,  0.4413892 ,  0.42843259,\n",
        "        0.41572251,  0.40326271,  0.39105623,  0.37910543,  0.36741204,\n",
        "        0.35597721,  0.34480154,  0.33388511,  0.32322753,  0.31282797,\n",
        "        0.30268521,  0.29279763,  0.28316327,  0.27377988,  0.2646449 ,\n",
        "        0.25575552,  0.24710868,  0.23870112,  0.2305294 ,  0.22258989,\n",
        "        0.21487881,  0.20739228,  0.20012626,  0.19307666,  0.18623927,\n",
        "        0.17960983,  0.17318404,  0.16695753,  0.16092591,  0.15508479,\n",
        "        0.14942974,  0.14395635,  0.13866022,  0.13353696,  0.12858219,\n",
        "        0.12379159,  0.11916086,  0.11468574,  0.11036202,  0.10618554,\n",
        "        0.10215219,  0.09825792,  0.09449877,  0.09087079,  0.08737015,\n",
        "        0.08399306,  0.0807358 ,  0.07759474,  0.07456632,  0.07164703,\n",
        "        0.06883346,  0.06612228,  0.06351021,  0.06099408,  0.05857078,\n",
        "        0.05623726,  0.05399057,  0.05182783,  0.04974623,  0.04774304,\n",
        "        0.0458156 ,  0.04396133,  0.0421777 ,  0.04046228,  0.03881269,\n",
        "        0.03722664,  0.03570187,  0.03423623,  0.03282761,  0.03147396,\n",
        "        0.03017332,  0.02892376,  0.02772342,  0.02657052,  0.0254633 ,\n",
        "        0.02440009,  0.02337926,  0.02239923,  0.02145847,  0.02055552,\n",
        "        0.01968895,  0.01885739,  0.0180595 ,  0.01729401,  0.01655967,\n",
        "        0.01585529,  0.01517972,  0.01453184,  0.01391058,  0.0133149 ,\n",
        "        0.01274381,  0.01219633,  0.01167155,  0.01116857,  0.01068652,\n",
        "        0.01022458,  0.00978194,  0.00935784,  0.00895154,  0.00856232,\n",
        "        0.00818949,  0.0078324 ,  0.0074904 ,  0.00716289,  0.00684928,\n",
        "        0.00654899,  0.00626149,  0.00598626,  0.00572278,  0.00547058,\n",
        "        0.0052292 ])"
       ]
      }
     ],
     "prompt_number": 141
    },
    {
     "cell_type": "code",
     "collapsed": false,
     "input": [],
     "language": "python",
     "metadata": {},
     "outputs": []
    }
   ],
   "metadata": {}
  }
 ]
}