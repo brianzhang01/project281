{
 "metadata": {
  "name": ""
 },
 "nbformat": 3,
 "nbformat_minor": 0,
 "worksheets": [
  {
   "cells": [
    {
     "cell_type": "code",
     "collapsed": false,
     "input": [
      "%matplotlib inline\n",
      "\n",
      "import csv\n",
      "import matplotlib.pyplot as plt\n",
      "import numpy as np\n",
      "from operator import itemgetter\n",
      "from itertools import groupby\n",
      "from random import randrange\n",
      "\n",
      "import cPickle as pickle\n",
      "import math\n",
      "import operator\n",
      "from scipy.stats import poisson\n",
      "\n",
      "from sklearn.cross_validation import train_test_split\n",
      "from sklearn.neighbors import KNeighborsRegressor"
     ],
     "language": "python",
     "metadata": {},
     "outputs": [],
     "prompt_number": 1
    },
    {
     "cell_type": "code",
     "collapsed": false,
     "input": [
      "# f = open('../data/collisions_new.csv')\n",
      "# raw_data = csv.DictReader(f)\n",
      "# collisions = list(raw_data)\n",
      "# f.close()\n",
      "\n",
      "# remove missing lon and lat\n",
      "# collisions = [i for i in collisions if i['lat'] != '' or i['lon'] != '' or i['collisions'] == 0]\n",
      "\n",
      "# f = open('collisions.pckl', 'wb')\n",
      "# pickle.dump(collisions, f)\n",
      "# f.close()\n",
      "\n",
      "# open collisions from pickle (serialized) file\n",
      "f = open('collisions.pckl', 'rb')\n",
      "collisions = pickle.load(f)\n",
      "f.close()"
     ],
     "language": "python",
     "metadata": {},
     "outputs": [],
     "prompt_number": 2
    },
    {
     "cell_type": "code",
     "collapsed": false,
     "input": [
      "# key: lon, lat; value: count of collisions at that intersection\n",
      "\n",
      "collisions_count = {}\n",
      "for incident in collisions:\n",
      "    if incident['borocode'] == '1':\n",
      "        lon = incident['lon']\n",
      "        lat = incident['lat']\n",
      "        c_count = incident['collisions']\n",
      "        count = collisions_count.get((lon, lat), 0)\n",
      "        collisions_count[(lon, lat)] = count + int(c_count)"
     ],
     "language": "python",
     "metadata": {},
     "outputs": [],
     "prompt_number": 3
    },
    {
     "cell_type": "code",
     "collapsed": false,
     "input": [
      "y_coords = []\n",
      "x_coords = []\n",
      "counts = []\n",
      "\n",
      "for y,x in collisions_count.keys():\n",
      "    y_coords.append(float(y) / 0.7581)\n",
      "    x_coords.append(float(x))\n",
      "    counts.append(float(collisions_count[(y,x)]))\n",
      "\n",
      "loc = np.transpose(np.array([x_coords,y_coords]))\n",
      "counts = np.array(counts)"
     ],
     "language": "python",
     "metadata": {},
     "outputs": [],
     "prompt_number": 5
    },
    {
     "cell_type": "code",
     "collapsed": false,
     "input": [
      "loc"
     ],
     "language": "python",
     "metadata": {},
     "outputs": [
      {
       "metadata": {},
       "output_type": "pyout",
       "prompt_number": 23,
       "text": [
        "array([[ 40.785311  , -97.57200897],\n",
        "       [ 40.753143  , -97.62222134],\n",
        "       [ 40.758537  , -97.58237963],\n",
        "       ..., \n",
        "       [ 40.740756  , -97.62445192],\n",
        "       [ 40.75152   , -97.58636723],\n",
        "       [ 40.744801  , -97.60113178]])"
       ]
      }
     ],
     "prompt_number": 23
    },
    {
     "cell_type": "code",
     "collapsed": false,
     "input": [
      "def shuffle(x):\n",
      "    for i in xrange(len(x)-1, 0, -1):\n",
      "        j = randrange(i + 1)\n",
      "        x[i], x[j] = x[j], x[i]\n",
      "    return x\n",
      "        \n",
      "def flatten_list(list_of_lists):\n",
      "        return [item for sublist in list_of_lists for item in sublist]\n",
      "\n",
      "def split_groups(lst, n):\n",
      "    return [lst[i::n] for i in xrange(n)]\n",
      "\n",
      "# k-fold cross validation\n",
      "# usage: fit first, then call split_train_test(index=2) to get the different splittings of test/train data\n",
      "class CrossValidation(object):\n",
      "    def __init__(self, folds=5):\n",
      "        self.folds = folds\n",
      "    \n",
      "    def flatten_list(self, list_of_lists):\n",
      "        return [item for sublist in list_of_lists for item in sublist]\n",
      "    \n",
      "    def fit(self, locations, counts):\n",
      "        self.locations = np.array(locations)\n",
      "        self.counts = np.array(counts)\n",
      "        self.cross_validation_data = {}\n",
      "        self.n = len(locations)\n",
      "        \n",
      "        indicies = range(self.n)\n",
      "        shuffled_indicies = shuffle(indicies)\n",
      "        \n",
      "        groups = np.array(split_groups(shuffled_indicies, self.folds))\n",
      "        \n",
      "        for fld in xrange(self.folds):\n",
      "#            fold_data = {}\n",
      "#            train_indicies = range(self.folds).remove(fld)\n",
      "            fold_data = {}\n",
      "            train_indicies = range(self.folds)\n",
      "            train_indicies.remove(fld)\n",
      "\n",
      "            test_indicies = fld\n",
      "            train_set = self.flatten_list(groups[train_indicies])\n",
      "\n",
      "#            train_set = self.flatten_list(groups[train_indicies][0])\n",
      "            test_set = groups[test_indicies]\n",
      "    \n",
      "            fold_data['train'] = list(train_set)\n",
      "            fold_data['test'] = test_set\n",
      "            self.cross_validation_data[fld] = fold_data\n",
      "        \n",
      "    def split_train_test(self, index=0):\n",
      "        if index >= self.folds:\n",
      "            print 'Index too big'\n",
      "            return\n",
      "        else:\n",
      "            fold_data = self.cross_validation_data[index]\n",
      "            train = fold_data['train']\n",
      "            test = fold_data['test']\n",
      "            \n",
      "            return self.locations[train], self.locations[test], self.counts[train], self.counts[test]\n",
      "    \n",
      "cross_valid = CrossValidation(folds=10)\n",
      "cross_valid.fit(loc, counts)"
     ],
     "language": "python",
     "metadata": {},
     "outputs": [],
     "prompt_number": 45
    },
    {
     "cell_type": "code",
     "collapsed": false,
     "input": [
      "loc_train, loc_test, counts_train, counts_test = cross_valid.split_train_test(index=2)\n",
      "print np.shape(loc_train)\n",
      "print np.shape(loc_test)\n",
      "print 3772+419"
     ],
     "language": "python",
     "metadata": {},
     "outputs": [
      {
       "output_type": "stream",
       "stream": "stdout",
       "text": [
        "(3772L, 2L)\n",
        "(419L, 2L)\n",
        "4191\n"
       ]
      }
     ],
     "prompt_number": 49
    },
    {
     "cell_type": "code",
     "collapsed": false,
     "input": [
      "class KNeighbors(object):\n",
      "    def __init__(self, n_neighbors=5, weights='uniform'):\n",
      "        self.n_neighbors = n_neighbors\n",
      "        self.weight = weights\n",
      "        self.locations = None\n",
      "        self.n = None\n",
      "        self.dist_matrix = None\n",
      "        self.counts = None\n",
      "        self.infinity = 1000000000.\n",
      "        \n",
      "    def fit(self, locations, counts):\n",
      "        self.locations = locations\n",
      "        self.n = len(locations)\n",
      "        self.counts = counts\n",
      "        \n",
      "    def predict(self, new_sites):\n",
      "        predictions = []\n",
      "        for pt in new_sites:\n",
      "            if pt not in stored_distances:\n",
      "                all_distances = [self.distance_between(pt, data_pt) for data_pt in self.locations]\n",
      "                sorted_distances = sorted(enumerate(all_distances), key=itemgetter(1))\n",
      "                \n",
      "                stored_distances[pt] = sorted_distances[:max(k_values)]\n",
      "            else:\n",
      "                sorted_distances = stored_distances[pt]\n",
      "            \n",
      "            nearest_indicies, nearest_distances = zip(*sorted_distances[:self.n_neighbors])\n",
      "            nearest_indicies = list(nearest_indicies)\n",
      "            nearest_points = self.counts[nearest_indicies]\n",
      "            if self.weight == 'uniform':\n",
      "                pt_predict = self.uniform_weight(nearest_points)\n",
      "            elif self.weight == 'distance':\n",
      "                pt_predict = self.inverse_distance_weight(nearest_points, nearest_distances)\n",
      "            else:\n",
      "                print 'Warning!'\n",
      "                \n",
      "            predictions.append(pt_predict)\n",
      "        return predictions\n",
      "    \n",
      "    def uniform_weight(self, counts):\n",
      "        return sum(counts) / len(counts)\n",
      "    \n",
      "    def inverse_distance_weight(self, counts, dists):\n",
      "        inv_weights = []\n",
      "        for d in dists:\n",
      "            try:\n",
      "                inv_weights.append(1./d)\n",
      "            except ZeroDivisionError:\n",
      "                inv_weights.append(self.infinity)\n",
      "        weights_sum = sum(inv_weights)\n",
      "        inv_weights = [float(i) / weights_sum for i in inv_weights]\n",
      "        return sum([c*d for c,d in zip(counts, inv_weights)])\n",
      "            \n",
      "    def distance_between(self, pt1, pt2):\n",
      "        return math.sqrt(math.pow(pt1[0] - pt2[0],2) + math.pow(pt1[1] - pt2[1], 2))"
     ],
     "language": "python",
     "metadata": {},
     "outputs": [],
     "prompt_number": 119
    },
    {
     "cell_type": "code",
     "collapsed": false,
     "input": [
      "def poisson_likelihood(kneigh, locations, counts):\n",
      "    predictions = kneigh.predict(locations) \n",
      "    results = []\n",
      "    for p,c in zip(predictions, counts):\n",
      "        try:\n",
      "            log_likelihood = -math.log(poisson(p).pmf(c))\n",
      "        # handle k >>> 0 cases\n",
      "        except ValueError:\n",
      "            log_likelihood = p - c*math.log(p) + c*math.log(c) - c + math.log(math.sqrt(2 * math.pi * c))\n",
      "        results.append(log_likelihood)\n",
      "    return (sum(results) / float(len(results)))\n",
      "\n",
      "# poisson baseline\n",
      "def poisson_baseline(baseline, counts):\n",
      "    results = []\n",
      "    for c in counts:\n",
      "        try:\n",
      "            log_likelihood = -math.log(poisson(baseline).pmf(c))\n",
      "        # handle k >> 0 cases\n",
      "        except ValueError:\n",
      "            log_likelihood = baseline - c*math.log(baseline) + c*math.log(c) - c + math.log(math.sqrt(2 * math.pi * l))\n",
      "        results.append(log_likelihood)\n",
      "    return (sum(results) / float(len(results)))\n",
      "\n",
      "def perfect_guessing(counts):\n",
      "    results = [-math.log(poisson(c).pmf(c)) for c in counts]\n",
      "    return (sum(results) / float(len(results)))"
     ],
     "language": "python",
     "metadata": {},
     "outputs": [],
     "prompt_number": 53
    },
    {
     "cell_type": "code",
     "collapsed": false,
     "input": [
      "cross_valid = CrossValidation(folds=10)\n",
      "cross_valid.fit(loc, counts)\n",
      "loc_train, loc_test, counts_train, counts_test = cross_valid.split_train_test()\n",
      "\n",
      "# print len(loc_train), len(loc_test)\n",
      "# loc_test_small = loc_test[:10]\n",
      "\n",
      "# neigh = KNeighbors(n_neighbors=8, weights='uniform')\n",
      "neigh.fit(loc_train, counts_train)\n",
      "\n",
      "predictions = neigh.predict(loc_test)"
     ],
     "language": "python",
     "metadata": {},
     "outputs": [],
     "prompt_number": 191
    },
    {
     "cell_type": "code",
     "collapsed": false,
     "input": [
      "stored_points = {}"
     ],
     "language": "python",
     "metadata": {},
     "outputs": []
    },
    {
     "cell_type": "code",
     "collapsed": false,
     "input": [
      "poisson_distance = []\n",
      "k_values = [1] + range(5,45,5)\n",
      "folds = 5\n",
      "\n",
      "cross_valid = CrossValidation(folds=folds)\n",
      "cross_valid.fit(loc, counts)\n",
      "\n",
      "print '1'\n",
      "\n",
      "for k in k_values:\n",
      "    curr_scores = []\n",
      "    for ind in xrange(folds):\n",
      "        loc_train, loc_test, counts_train, counts_test = cross_valid.split_train_test(index=ind)\n",
      "        neigh = KNeighbors(n_neighbors=k, weights='distance')\n",
      "        neigh.fit(loc_train, counts_train)\n",
      "    \n",
      "        curr_scores.append(poisson_likelihood(neigh, loc_test, counts_test))\n",
      "\n",
      "    poisson_distance.append(sum(curr_scores) / len(curr_scores))\n",
      "\n",
      "print 'halfway'\n",
      "poisson_uniform = []\n",
      "for k in k_values:\n",
      "    curr_scores = []\n",
      "    for ind in xrange(folds):\n",
      "        loc_train, loc_test, counts_train, counts_test = cross_valid.split_train_test(index=ind)\n",
      "        \n",
      "        neigh = KNeighbors(n_neighbors=k, weights='uniform')\n",
      "        neigh.fit(loc_train, counts_train)\n",
      "    \n",
      "        curr_scores.append(poisson_likelihood(neigh, loc_test, counts_test))\n",
      "    poisson_uniform.append(sum(curr_scores) / len(curr_scores))"
     ],
     "language": "python",
     "metadata": {},
     "outputs": [
      {
       "output_type": "stream",
       "stream": "stdout",
       "text": [
        "1\n",
        "halfway"
       ]
      },
      {
       "output_type": "stream",
       "stream": "stdout",
       "text": [
        "\n"
       ]
      }
     ],
     "prompt_number": 199
    },
    {
     "cell_type": "code",
     "collapsed": false,
     "input": [
      "poisson_baseline_value = poisson_baseline(collisions_per_intersection, counts)\n",
      "print poisson_baseline_value\n",
      "\n",
      "perfect_guessing_value = perfect_guessing(counts)\n",
      "print perfect_guessing_value\n",
      "\n",
      "print poisson_distance[:10]\n",
      "print poisson_uniform[:10]"
     ],
     "language": "python",
     "metadata": {},
     "outputs": [
      {
       "metadata": {},
       "output_type": "pyout",
       "prompt_number": 59,
       "text": [
        "array([0, 1, 2, 3, 4])"
       ]
      }
     ],
     "prompt_number": 59
    },
    {
     "cell_type": "code",
     "collapsed": false,
     "input": [
      "plt.plot(k_values, poisson_distance, 'r')\n",
      "plt.plot(k_values, poisson_uniform, 'b')\n",
      "\n",
      "plt.plot(k_values, poisson_baseline_value * np.ones(len(k_values)), 'k')\n",
      "plt.plot(k_values, perfect_guessing_value * np.ones(len(k_values)), '--k')\n",
      "# print len(poisson_scores)\n",
      "# plt.plot(k_values, baseline * np.ones(len(k_values)), 'b')\n",
      "plt.legend(['Inverse Distance', 'Uniform', 'Average Baseline', 'Perfect'], loc='best')\n",
      "plt.xlabel('k')\n",
      "plt.ylabel('Negative Log Likelihood')\n",
      "plt.title('K-Nearest Neighbors with Poisson Regression')\n",
      "plt.show()"
     ],
     "language": "python",
     "metadata": {},
     "outputs": [
      {
       "ename": "TypeError",
       "evalue": "list indices must be integers, not list",
       "output_type": "pyerr",
       "traceback": [
        "\u001b[1;31m---------------------------------------------------------------------------\u001b[0m\n\u001b[1;31mTypeError\u001b[0m                                 Traceback (most recent call last)",
        "\u001b[1;32m<ipython-input-60-15cdc2cc4780>\u001b[0m in \u001b[0;36m<module>\u001b[1;34m()\u001b[0m\n\u001b[0;32m      1\u001b[0m \u001b[0mirene\u001b[0m \u001b[1;33m=\u001b[0m \u001b[0mrange\u001b[0m\u001b[1;33m(\u001b[0m\u001b[1;36m100\u001b[0m\u001b[1;33m)\u001b[0m\u001b[1;33m\u001b[0m\u001b[0m\n\u001b[1;32m----> 2\u001b[1;33m \u001b[0mirene\u001b[0m\u001b[1;33m[\u001b[0m\u001b[0mrange\u001b[0m\u001b[1;33m(\u001b[0m\u001b[1;36m5\u001b[0m\u001b[1;33m)\u001b[0m\u001b[1;33m]\u001b[0m\u001b[1;33m\u001b[0m\u001b[0m\n\u001b[0m",
        "\u001b[1;31mTypeError\u001b[0m: list indices must be integers, not list"
       ]
      }
     ],
     "prompt_number": 60
    },
    {
     "cell_type": "code",
     "collapsed": false,
     "input": [
      "test = {}\n",
      "test[1] = [12,5,1],[4,3]"
     ],
     "language": "python",
     "metadata": {},
     "outputs": [],
     "prompt_number": 133
    },
    {
     "cell_type": "code",
     "collapsed": false,
     "input": [
      "test[1]"
     ],
     "language": "python",
     "metadata": {},
     "outputs": [
      {
       "metadata": {},
       "output_type": "pyout",
       "prompt_number": 134,
       "text": [
        "([12, 5, 1], [4, 3])"
       ]
      }
     ],
     "prompt_number": 134
    },
    {
     "cell_type": "code",
     "collapsed": false,
     "input": [],
     "language": "python",
     "metadata": {},
     "outputs": []
    }
   ],
   "metadata": {}
  }
 ]
}