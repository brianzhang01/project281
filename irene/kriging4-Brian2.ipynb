{
 "metadata": {
  "name": ""
 },
 "nbformat": 3,
 "nbformat_minor": 0,
 "worksheets": [
  {
   "cells": [
    {
     "cell_type": "heading",
     "level": 4,
     "metadata": {},
     "source": [
      "This file focuses on marginal likelihood as a way of evaluating models"
     ]
    },
    {
     "cell_type": "code",
     "collapsed": false,
     "input": [
      "import csv\n",
      "import numpy as np\n",
      "%matplotlib inline\n",
      "import matplotlib\n",
      "import matplotlib.pyplot as plt\n",
      "# from mpl_toolkits.basemap import Basemap\n",
      "from scipy.stats import poisson\n",
      "import math\n",
      "from random import randrange\n",
      "\n",
      "import csv\n",
      "import time"
     ],
     "language": "python",
     "metadata": {},
     "outputs": [],
     "prompt_number": 3
    },
    {
     "cell_type": "code",
     "collapsed": false,
     "input": [
      "f = open('../data/manhattan_train.csv', 'rb')\n",
      "freader = csv.reader(f)\n",
      "data = list(freader)[1:]\n",
      "lon, lat, counts = zip(*data)\n",
      "\n",
      "lon_coords = [float(i) for i in lon]\n",
      "lat_coords = [float(i) for i in lat]\n",
      "counts = np.array([float(i) for i in counts])\n",
      "\n",
      "loc = np.array(zip(lon_coords, lat_coords))\n",
      "log_counts = np.log(counts)"
     ],
     "language": "python",
     "metadata": {},
     "outputs": [],
     "prompt_number": 4
    },
    {
     "cell_type": "code",
     "collapsed": false,
     "input": [
      "def matern_3(x,L):\n",
      "    return (1+math.sqrt(3)*x/L)*np.exp(-math.sqrt(3)*x/L)\n",
      "\n",
      "def g(x,L):\n",
      "    return (3*np.square(x)/L**3)*np.exp(-math.sqrt(3)*x/L)"
     ],
     "language": "python",
     "metadata": {},
     "outputs": [],
     "prompt_number": 5
    },
    {
     "cell_type": "code",
     "collapsed": false,
     "input": [
      "FACTOR = 0.7581\n",
      "EARTH_RADIUS = 3959\n",
      "\n",
      "def build_distance_matrix(locs1, locs2):\n",
      "    lons1, lats1 = locs1[:,0], locs1[:,1]\n",
      "    lons2, lats2 = locs2[:,0], locs2[:,1]\n",
      "    dlon12 = lons2 - lons1[:, None]\n",
      "    dlat12 = lats2 - lats1[:, None]\n",
      "    D12 = np.sqrt(np.square(dlon12*FACTOR) + np.square(dlat12))\n",
      "    D12 = D12/360*(2*math.pi)*EARTH_RADIUS\n",
      "    return D12"
     ],
     "language": "python",
     "metadata": {},
     "outputs": [],
     "prompt_number": 6
    },
    {
     "cell_type": "code",
     "collapsed": false,
     "input": [
      "# Step 5: Define a function f = log marginal likelihood, as a function of L, sigma_f, sigma_n\n",
      "def log_determinant(nparray):\n",
      "    n = len(nparray)\n",
      "#    biggest = 30\n",
      "    biggest = np.max(nparray)\n",
      "    done = False\n",
      "    while not done:\n",
      "        try:\n",
      "            log_determinant = math.log(np.linalg.det(nparray / biggest)) + n * math.log(biggest)\n",
      "            done = True\n",
      "            if math.isinf(log_determinant):\n",
      "#                print 'hi', biggest\n",
      "                biggest = biggest * 2.\n",
      "                done = False\n",
      "        except ValueError:\n",
      "#            print 'value error', biggest\n",
      "            biggest = biggest / 1.5\n",
      "#    print 'log_det', log_determinant\n",
      "    return log_determinant\n",
      "    \n",
      "def all_values(L, sigma_f, sigma_n, loc, log_counts):\n",
      "    distances = build_distance_matrix(loc, loc)\n",
      "    M = matern_3(distances, L)\n",
      "    n = len(M)\n",
      "    G = g(distances, L)\n",
      "    K = sigma_f*M + sigma_n*np.eye(n)\n",
      "    K_inv = np.linalg.inv(K)\n",
      "    y = log_counts[:,None]\n",
      "    log_ml = -0.5*np.dot(np.dot(np.transpose(y), K_inv), y)[0,0]-0.5*log_determinant(K)-n/2.*math.log(2*math.pi)\n",
      "#    print -0.5*np.dot(np.dot(np.transpose(log_counts), K_inv), log_counts), -0.5*log_determinant(K), -n/2.*math.log(2*math.pi)\n",
      "    \n",
      "    alpha = np.dot(K_inv, y)\n",
      "    inner = np.dot(alpha, np.transpose(alpha)) - K_inv\n",
      "    d_sigma_f = 0.5 * np.trace(np.dot(inner, M))\n",
      "    d_sigma_n = 0.5 * np.trace(inner)\n",
      "    d_L = 0.5 * np.trace(np.dot(inner, sigma_f * G))\n",
      "    return log_ml, d_L, d_sigma_f, d_sigma_n"
     ],
     "language": "python",
     "metadata": {},
     "outputs": [],
     "prompt_number": 32
    },
    {
     "cell_type": "code",
     "collapsed": false,
     "input": [
      "x = np.array([[1, 2], [3, 4]])\n",
      "y = np.array([5,6])"
     ],
     "language": "python",
     "metadata": {},
     "outputs": [],
     "prompt_number": 8
    },
    {
     "cell_type": "code",
     "collapsed": false,
     "input": [
      "x[0,0]"
     ],
     "language": "python",
     "metadata": {},
     "outputs": [
      {
       "metadata": {},
       "output_type": "pyout",
       "prompt_number": 11,
       "text": [
        "1"
       ]
      }
     ],
     "prompt_number": 11
    },
    {
     "cell_type": "code",
     "collapsed": false,
     "input": [
      "np.transpose(y)"
     ],
     "language": "python",
     "metadata": {},
     "outputs": [
      {
       "metadata": {},
       "output_type": "pyout",
       "prompt_number": 9,
       "text": [
        "array([5, 6])"
       ]
      }
     ],
     "prompt_number": 9
    },
    {
     "cell_type": "code",
     "collapsed": false,
     "input": [
      "# print len(loc_small)\n",
      "# log_counts_small = np.log(counts_small)\n",
      "\n",
      "start = time.time()\n",
      "all_info = all_values(0.1, 25, 1, loc, log_counts)\n",
      "end = time.time()\n",
      "print end - start\n",
      "print all_info"
     ],
     "language": "python",
     "metadata": {},
     "outputs": [
      {
       "output_type": "stream",
       "stream": "stdout",
       "text": [
        "11.5629999638\n",
        "(-7028.3568511438734, 14120.942443194092, -37.232943311234543, 210.46294756592673)\n"
       ]
      }
     ],
     "prompt_number": 60
    },
    {
     "cell_type": "code",
     "collapsed": false,
     "input": [
      "L = 1.99\n",
      "sigma_f = 8.66\n",
      "sigma_n = 1.34\n",
      "iterations = 5\n",
      "learning_rate = 0.005\n",
      "\n",
      "for i in xrange(iterations):\n",
      "    print i\n",
      "    print 'L =', L, 'sigma_f =', sigma_f, 'sigma_n =', sigma_n\n",
      "    log_ml, d_L, d_sigma_f, d_sigma_n = all_values(L, sigma_f, sigma_n, loc, log_counts)\n",
      "    print log_ml, d_L, d_sigma_f, d_sigma_n\n",
      "    sigma_f += learning_rate * d_sigma_f\n",
      "    sigma_n += learning_rate * d_sigma_n\n",
      "    L += learning_rate * d_L"
     ],
     "language": "python",
     "metadata": {},
     "outputs": [
      {
       "output_type": "stream",
       "stream": "stdout",
       "text": [
        "0\n",
        "L = 1.99 sigma_f = 8.66 sigma_n = 1.34\n",
        "-5052.04437891"
       ]
      },
      {
       "output_type": "stream",
       "stream": "stdout",
       "text": [
        " -3.80042103583 -0.315641673078 -0.518611231782\n",
        "1\n",
        "L = 1.97099789482 sigma_f = 8.65842179163 sigma_n = 1.33740694384\n",
        "-5051.97582787"
       ]
      },
      {
       "output_type": "stream",
       "stream": "stdout",
       "text": [
        " -3.41597500636 -0.35580619901 0.96113444473\n",
        "2\n",
        "L = 1.95391801979 sigma_f = 8.65664276064 sigma_n = 1.34221261606\n",
        "-5051.92843337"
       ]
      },
      {
       "output_type": "stream",
       "stream": "stdout",
       "text": [
        " -2.79885448606 -0.413015247403 -3.60943993333\n",
        "3\n",
        "L = 1.93992374736 sigma_f = 8.6545776844 sigma_n = 1.3241654164\n",
        "-5051.9525774"
       ]
      },
      {
       "output_type": "stream",
       "stream": "stdout",
       "text": [
        " -3.07808506843 -0.397840049931 11.0620851854\n",
        "4\n",
        "L = 1.92453332202 sigma_f = 8.65258848415 sigma_n = 1.37947584232\n",
        "-5052.57642259"
       ]
      },
      {
       "output_type": "stream",
       "stream": "stdout",
       "text": [
        " -0.697188603272 -0.59081922039 -33.4877619487\n"
       ]
      }
     ],
     "prompt_number": 58
    },
    {
     "cell_type": "code",
     "collapsed": false,
     "input": [
      "# testing above 5 steps\n",
      "f = open('../data/manhattan_small.csv', 'rb')\n",
      "csvreader = csv.reader(f)\n",
      "small_data = list(csvreader)[1:]\n",
      "\n",
      "lon_small, lat_small, counts_small = zip(*small_data)\n",
      "\n",
      "lon_small = [float(i) for i in lon_small]\n",
      "lat_small = [float(i) for i in lat_small]\n",
      "counts_small = np.array([float(i) for i in counts_small])\n",
      "\n",
      "loc_small = np.array(zip(lon_small, lat_small))\n",
      "\n",
      "log_counts_small = np.log(counts_small)"
     ],
     "language": "python",
     "metadata": {},
     "outputs": [],
     "prompt_number": 53
    },
    {
     "cell_type": "markdown",
     "metadata": {},
     "source": [
      "-----------------------------\n",
      "------------------------------\n",
      "--------------"
     ]
    }
   ],
   "metadata": {}
  }
 ]
}