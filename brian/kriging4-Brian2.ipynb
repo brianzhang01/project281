{
 "metadata": {
  "name": "kriging4-Brian2"
 },
 "nbformat": 3,
 "nbformat_minor": 0,
 "worksheets": [
  {
   "cells": [
    {
     "cell_type": "heading",
     "level": 4,
     "metadata": {},
     "source": "This file focuses on marginal likelihood as a way of evaluating models"
    },
    {
     "cell_type": "code",
     "collapsed": false,
     "input": "import csv\nimport numpy as np\n%matplotlib inline\nimport matplotlib\nimport matplotlib.pyplot as plt\n# from mpl_toolkits.basemap import Basemap\nfrom scipy.stats import poisson\nimport math\nfrom random import randrange\n\nimport csv\nimport time",
     "language": "python",
     "metadata": {},
     "outputs": [],
     "prompt_number": 3
    },
    {
     "cell_type": "code",
     "collapsed": false,
     "input": "f = open('../data/manhattan_train.csv', 'rb')\nfreader = csv.reader(f)\ndata = list(freader)[1:]\nlon, lat, counts = zip(*data)\n\nlon_coords = [float(i) for i in lon]\nlat_coords = [float(i) for i in lat]\ncounts = np.array([float(i) for i in counts])\n\nloc = np.array(zip(lon_coords, lat_coords))\nlog_counts = np.log(counts)",
     "language": "python",
     "metadata": {},
     "outputs": [],
     "prompt_number": 4
    },
    {
     "cell_type": "code",
     "collapsed": false,
     "input": "def matern_3(x,L):\n    return (1+math.sqrt(3)*x/L)*np.exp(-math.sqrt(3)*x/L)\n\ndef g(x,L):\n    return (3*np.square(x)/L**3)*np.exp(-math.sqrt(3)*x/L)",
     "language": "python",
     "metadata": {},
     "outputs": [],
     "prompt_number": 5
    },
    {
     "cell_type": "code",
     "collapsed": false,
     "input": "FACTOR = 0.7581\nEARTH_RADIUS = 3959\n\ndef build_distance_matrix(locs1, locs2):\n    lons1, lats1 = locs1[:,0], locs1[:,1]\n    lons2, lats2 = locs2[:,0], locs2[:,1]\n    dlon12 = lons2 - lons1[:, None]\n    dlat12 = lats2 - lats1[:, None]\n    D12 = np.sqrt(np.square(dlon12*FACTOR) + np.square(dlat12))\n    D12 = D12/360*(2*math.pi)*EARTH_RADIUS\n    return D12",
     "language": "python",
     "metadata": {},
     "outputs": [],
     "prompt_number": 6
    },
    {
     "cell_type": "code",
     "collapsed": false,
     "input": "# Step 5: Define a function f = log marginal likelihood, as a function of L, sigma_f, sigma_n\ndef log_determinant(nparray):\n    n = len(nparray)\n#    biggest = 30\n    biggest = np.max(nparray)\n    done = False\n    while not done:\n        try:\n            log_determinant = math.log(np.linalg.det(nparray / biggest)) + n * math.log(biggest)\n            done = True\n            if math.isinf(log_determinant):\n#                print 'hi', biggest\n                biggest = biggest * 2.\n                done = False\n        except ValueError:\n#            print 'value error', biggest\n            biggest = biggest / 1.5\n#    print 'log_det', log_determinant\n    return log_determinant\n    \ndef all_values(L, sigma_f, sigma_n, loc, log_counts):\n    distances = build_distance_matrix(loc, loc)\n    M = matern_3(distances, L)\n    n = len(M)\n    G = g(distances, L)\n    K = sigma_f*M + sigma_n*np.eye(n)\n    K_inv = np.linalg.inv(K)\n    y = log_counts[:,None]\n    log_ml = -0.5*np.dot(np.dot(np.transpose(y), K_inv), y)[0,0]-0.5*log_determinant(K)-n/2.*math.log(2*math.pi)\n#    print -0.5*np.dot(np.dot(np.transpose(log_counts), K_inv), log_counts), -0.5*log_determinant(K), -n/2.*math.log(2*math.pi)\n    \n    alpha = np.dot(K_inv, y)\n    inner = np.dot(alpha, np.transpose(alpha)) - K_inv\n    d_sigma_f = 0.5 * np.trace(np.dot(inner, M))\n    d_sigma_n = 0.5 * np.trace(inner)\n    d_L = 0.5 * np.trace(np.dot(inner, sigma_f * G))\n    return log_ml, d_L, d_sigma_f, d_sigma_n",
     "language": "python",
     "metadata": {},
     "outputs": [],
     "prompt_number": 32
    },
    {
     "cell_type": "code",
     "collapsed": false,
     "input": "x = np.array([[1, 2], [3, 4]])\ny = np.array([5,6])",
     "language": "python",
     "metadata": {},
     "outputs": [],
     "prompt_number": 8
    },
    {
     "cell_type": "code",
     "collapsed": false,
     "input": "x[0,0]",
     "language": "python",
     "metadata": {},
     "outputs": [
      {
       "metadata": {},
       "output_type": "pyout",
       "prompt_number": 11,
       "text": "1"
      }
     ],
     "prompt_number": 11
    },
    {
     "cell_type": "code",
     "collapsed": false,
     "input": "np.transpose(y)",
     "language": "python",
     "metadata": {},
     "outputs": [
      {
       "metadata": {},
       "output_type": "pyout",
       "prompt_number": 9,
       "text": "array([5, 6])"
      }
     ],
     "prompt_number": 9
    },
    {
     "cell_type": "code",
     "collapsed": false,
     "input": "# print len(loc_small)\n# log_counts_small = np.log(counts_small)\n\nstart = time.time()\nall_info = all_values(0.1, 25, 1, loc, log_counts)\nend = time.time()\nprint end - start\nprint all_info",
     "language": "python",
     "metadata": {},
     "outputs": [
      {
       "output_type": "stream",
       "stream": "stdout",
       "text": "11.5629999638\n(-7028.3568511438734, 14120.942443194092, -37.232943311234543, 210.46294756592673)\n"
      }
     ],
     "prompt_number": 60
    },
    {
     "cell_type": "code",
     "collapsed": false,
     "input": "L = 1.99\nsigma_f = 8.66\nsigma_n = 1.34\niterations = 5\nlearning_rate = 0.005\n\nfor i in xrange(iterations):\n    print i\n    print 'L =', L, 'sigma_f =', sigma_f, 'sigma_n =', sigma_n\n    log_ml, d_L, d_sigma_f, d_sigma_n = all_values(L, sigma_f, sigma_n, loc, log_counts)\n    print log_ml, d_L, d_sigma_f, d_sigma_n\n    sigma_f += learning_rate * d_sigma_f\n    sigma_n += learning_rate * d_sigma_n\n    L += learning_rate * d_L",
     "language": "python",
     "metadata": {},
     "outputs": [
      {
       "output_type": "stream",
       "stream": "stdout",
       "text": "0\nL = 1.99 sigma_f = 8.66 sigma_n = 1.34\n-5052.04437891"
      },
      {
       "output_type": "stream",
       "stream": "stdout",
       "text": " -3.80042103583 -0.315641673078 -0.518611231782\n1\nL = 1.97099789482 sigma_f = 8.65842179163 sigma_n = 1.33740694384\n-5051.97582787"
      },
      {
       "output_type": "stream",
       "stream": "stdout",
       "text": " -3.41597500636 -0.35580619901 0.96113444473\n2\nL = 1.95391801979 sigma_f = 8.65664276064 sigma_n = 1.34221261606\n-5051.92843337"
      },
      {
       "output_type": "stream",
       "stream": "stdout",
       "text": " -2.79885448606 -0.413015247403 -3.60943993333\n3\nL = 1.93992374736 sigma_f = 8.6545776844 sigma_n = 1.3241654164\n-5051.9525774"
      },
      {
       "output_type": "stream",
       "stream": "stdout",
       "text": " -3.07808506843 -0.397840049931 11.0620851854\n4\nL = 1.92453332202 sigma_f = 8.65258848415 sigma_n = 1.37947584232\n-5052.57642259"
      },
      {
       "output_type": "stream",
       "stream": "stdout",
       "text": " -0.697188603272 -0.59081922039 -33.4877619487\n"
      }
     ],
     "prompt_number": 58
    },
    {
     "cell_type": "code",
     "collapsed": false,
     "input": "# testing above 5 steps\nf = open('../data/manhattan_small.csv', 'rb')\ncsvreader = csv.reader(f)\nsmall_data = list(csvreader)[1:]\n\nlon_small, lat_small, counts_small = zip(*small_data)\n\nlon_small = [float(i) for i in lon_small]\nlat_small = [float(i) for i in lat_small]\ncounts_small = np.array([float(i) for i in counts_small])\n\nloc_small = np.array(zip(lon_small, lat_small))\n\nlog_counts_small = np.log(counts_small)",
     "language": "python",
     "metadata": {},
     "outputs": [],
     "prompt_number": 53
    },
    {
     "cell_type": "markdown",
     "metadata": {},
     "source": "-----------------------------\n------------------------------\n--------------"
    }
   ],
   "metadata": {}
  }
 ]
}