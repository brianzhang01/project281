{
 "metadata": {
  "name": ""
 },
 "nbformat": 3,
 "nbformat_minor": 0,
 "worksheets": [
  {
   "cells": [
    {
     "cell_type": "heading",
     "level": 4,
     "metadata": {},
     "source": [
      "This file focuses on marginal likelihood as a way of evaluating models"
     ]
    },
    {
     "cell_type": "code",
     "collapsed": false,
     "input": [
      "import csv\n",
      "import numpy as np\n",
      "%matplotlib inline\n",
      "import matplotlib\n",
      "import matplotlib.pyplot as plt\n",
      "# from mpl_toolkits.basemap import Basemap\n",
      "from scipy.stats import poisson\n",
      "import math\n",
      "from random import randrange\n",
      "\n",
      "import csv\n",
      "import time"
     ],
     "language": "python",
     "metadata": {},
     "outputs": [],
     "prompt_number": 1
    },
    {
     "cell_type": "code",
     "collapsed": false,
     "input": [
      "f = open('../data/brooklyn_train.csv', 'rb')\n",
      "freader = csv.reader(f)\n",
      "data = list(freader)[1:]\n",
      "lon, lat, counts = zip(*data)\n",
      "\n",
      "lon_coords = [float(i) for i in lon]\n",
      "lat_coords = [float(i) for i in lat]\n",
      "counts = np.array([float(i) for i in counts])\n",
      "\n",
      "loc = np.array(zip(lon_coords, lat_coords))\n",
      "log_counts = np.log(counts)"
     ],
     "language": "python",
     "metadata": {},
     "outputs": [],
     "prompt_number": 2
    },
    {
     "cell_type": "code",
     "collapsed": false,
     "input": [
      "def matern_3(x,L):\n",
      "    return (1+math.sqrt(3)*x/L)*np.exp(-math.sqrt(3)*x/L)\n",
      "\n",
      "def g(x,L):\n",
      "    return (3*np.square(x)/L**3)*np.exp(-math.sqrt(3)*x/L)"
     ],
     "language": "python",
     "metadata": {},
     "outputs": [],
     "prompt_number": 3
    },
    {
     "cell_type": "code",
     "collapsed": false,
     "input": [
      "FACTOR = 0.7581\n",
      "EARTH_RADIUS = 3959\n",
      "\n",
      "def build_distance_matrix(locs1, locs2):\n",
      "    lons1, lats1 = locs1[:,0], locs1[:,1]\n",
      "    lons2, lats2 = locs2[:,0], locs2[:,1]\n",
      "    dlon12 = lons2 - lons1[:, None]\n",
      "    dlat12 = lats2 - lats1[:, None]\n",
      "    D12 = np.sqrt(np.square(dlon12*FACTOR) + np.square(dlat12))\n",
      "    D12 = D12/360*(2*math.pi)*EARTH_RADIUS\n",
      "    return D12"
     ],
     "language": "python",
     "metadata": {},
     "outputs": [],
     "prompt_number": 4
    },
    {
     "cell_type": "code",
     "collapsed": false,
     "input": [
      "# # Step 5: Define a function f = log marginal likelihood, as a function of L, sigma_f, sigma_n\n",
      "# def log_determinant(nparray):\n",
      "#     n = len(nparray)\n",
      "# #    biggest = 30\n",
      "#     biggest = np.max(nparray)\n",
      "#     done = False\n",
      "#     while not done:\n",
      "#         try:\n",
      "#             log_determinant = math.log(np.linalg.det(nparray / biggest)) + n * math.log(biggest)\n",
      "#             done = True\n",
      "#             if math.isinf(log_determinant):\n",
      "#                 print 'hi', biggest\n",
      "#                 biggest = biggest * 2.\n",
      "#                 done = False\n",
      "#         except ValueError:\n",
      "#             print 'value error', biggest\n",
      "#             biggest = biggest / 1.5\n",
      "#     print 'log_det', log_determinant\n",
      "#     return log_determinant\n",
      "    \n",
      "def all_values(L, sigma_f, sigma_n, loc, log_counts):\n",
      "    distances = build_distance_matrix(loc, loc)\n",
      "    M = matern_3(distances, L)\n",
      "    n = len(M)\n",
      "    G = g(distances, L)\n",
      "    K = sigma_f*M + sigma_n*np.eye(n)\n",
      "    L = np.linalg.cholesky(K)\n",
      "    ld = 2*np.trace(np.log(L))\n",
      "    K_inv = np.linalg.inv(K)\n",
      "    y = log_counts[:,None]\n",
      "    log_ml = -0.5*np.dot(np.dot(np.transpose(y), K_inv), y)[0,0]-0.5*ld-n/2.*math.log(2*math.pi)\n",
      "#    print -0.5*np.dot(np.dot(np.transpose(log_counts), K_inv), log_counts), -0.5*log_determinant(K), -n/2.*math.log(2*math.pi)\n",
      "    \n",
      "    alpha = np.dot(K_inv, y)\n",
      "    inner = np.dot(alpha, np.transpose(alpha)) - K_inv\n",
      "    d_sigma_f = 0.5 * np.trace(np.dot(inner, M))\n",
      "    d_sigma_n = 0.5 * np.trace(inner)\n",
      "    d_L = 0.5 * np.trace(np.dot(inner, sigma_f * G))\n",
      "    return log_ml, d_L, d_sigma_f, d_sigma_n\n",
      "\n",
      "def just_log_ml(L, sigma_f, sigma_n, loc, log_counts):\n",
      "    distances = build_distance_matrix(loc, loc)\n",
      "    M = matern_3(distances, L)\n",
      "    n = len(M)\n",
      "    G = g(distances, L)\n",
      "    K = sigma_f*M + sigma_n*np.eye(n)\n",
      "    L = np.linalg.cholesky(K)\n",
      "#    ld = 2*np.trace(np.log(L))\n",
      "    y = log_counts[:,None]\n",
      "    term1 = -0.5*np.dot(np.transpose(y), np.linalg.solve(np.transpose(L),np.linalg.solve(L, y)))[0,0]\n",
      "    term2 = -np.trace(np.log(L))\n",
      "    term3 = -n/2.*math.log(2*math.pi)\n",
      "    log_ml = term1+term2+term3\n",
      "    return log_ml"
     ],
     "language": "python",
     "metadata": {},
     "outputs": [],
     "prompt_number": 32
    },
    {
     "cell_type": "code",
     "collapsed": false,
     "input": [
      "# print len(loc_small)\n",
      "# log_counts_small = np.log(counts_small)\n",
      "\n",
      "start = time.time()\n",
      "all_info = all_values(1.95, 8.66, 1.34, loc[:1000], log_counts[:1000])\n",
      "end = time.time()\n",
      "print end - start\n",
      "print all_info"
     ],
     "language": "python",
     "metadata": {},
     "outputs": [
      {
       "output_type": "stream",
       "stream": "stdout",
       "text": [
        "0.631000041962\n",
        "(-1551.2719217960571, 39.478533638983926, -4.242863097274757, -84.949734668118779)\n"
       ]
      }
     ],
     "prompt_number": 35
    },
    {
     "cell_type": "code",
     "collapsed": false,
     "input": [
      "L = 5.5\n",
      "sigma_f = 8\n",
      "sigma_n = 1\n",
      "iterations = 10\n",
      "learning_rate = 0.001\n",
      "\n",
      "for i in xrange(iterations):\n",
      "    print i\n",
      "    print 'L =', L, 'sigma_f =', sigma_f, 'sigma_n =', sigma_n\n",
      "    log_ml, d_L, d_sigma_f, d_sigma_n = all_values(L, sigma_f, sigma_n, loc[3000:5000], log_counts[3000:5000])\n",
      "    print log_ml, d_L, d_sigma_f, d_sigma_n\n",
      "    sigma_f += learning_rate * d_sigma_f\n",
      "    sigma_n += learning_rate * d_sigma_n\n",
      "    L += learning_rate * d_L"
     ],
     "language": "python",
     "metadata": {},
     "outputs": [
      {
       "output_type": "stream",
       "stream": "stdout",
       "text": [
        "0\n",
        "L = 5.5 sigma_f = 8 sigma_n = 1\n",
        "-2972.5429345"
       ]
      },
      {
       "output_type": "stream",
       "stream": "stdout",
       "text": [
        " 0.535005176208 -0.577209048209 65.8018906197\n",
        "1\n",
        "L = 5.50053500518 sigma_f = 7.99942279095 sigma_n = 1.06580189062\n",
        "-2970.37390845"
       ]
      },
      {
       "output_type": "stream",
       "stream": "stdout",
       "text": [
        " 1.1637439638 -0.723519391307 2.70480054063\n",
        "2\n",
        "L = 5.50169874914 sigma_f = 7.99869927156 sigma_n = 1.06850669116\n",
        "-2970.36776702"
       ]
      },
      {
       "output_type": "stream",
       "stream": "stdout",
       "text": [
        " 1.18594668019 -0.728707974955 0.440674819723\n",
        "3\n",
        "L = 5.50288469582 sigma_f = 7.99797056359 sigma_n = 1.06894736598\n",
        "-2970.36571234"
       ]
      },
      {
       "output_type": "stream",
       "stream": "stdout",
       "text": [
        " 1.18836537201 -0.729295254976 0.0838099452714\n",
        "4\n",
        "L = 5.50407306119 sigma_f = 7.99724126833 sigma_n = 1.06903117593\n",
        "-2970.36376413"
       ]
      },
      {
       "output_type": "stream",
       "stream": "stdout",
       "text": [
        " 1.18768374579 -0.729161183846 0.0255420601059\n",
        "5\n",
        "L = 5.50526074494 sigma_f = 7.99651210715 sigma_n = 1.06905671799\n",
        "-2970.36182213"
       ]
      },
      {
       "output_type": "stream",
       "stream": "stdout",
       "text": [
        " 1.18649856687 -0.728909819542 0.0159621067727\n",
        "6\n",
        "L = 5.5064472435 sigma_f = 7.99578319733 sigma_n = 1.06907268009\n",
        "-2970.35988365"
       ]
      },
      {
       "output_type": "stream",
       "stream": "stdout",
       "text": [
        " 1.1852327025 -0.728639558734 0.014372244968\n",
        "7\n",
        "L = 5.50763247621 sigma_f = 7.99505455777 sigma_n = 1.06908705234\n",
        "-2970.35794861"
       ]
      },
      {
       "output_type": "stream",
       "stream": "stdout",
       "text": [
        " 1.18395550437 -0.728366544089 0.0140951158364\n",
        "8\n",
        "L = 5.50881643171 sigma_f = 7.99432619122 sigma_n = 1.06910114745\n",
        "-2970.35601699"
       ]
      },
      {
       "output_type": "stream",
       "stream": "stdout",
       "text": [
        " 1.18267835597 -0.728093426474 0.0140337464193\n",
        "9\n",
        "L = 5.50999911007 sigma_f = 7.9935980978 sigma_n = 1.0691151812\n",
        "-2970.3540888"
       ]
      },
      {
       "output_type": "stream",
       "stream": "stdout",
       "text": [
        " 1.18140312183 -0.727820640607 0.0140078733132\n"
       ]
      }
     ],
     "prompt_number": 54
    },
    {
     "cell_type": "code",
     "collapsed": false,
     "input": [
      "# testing above 5 steps\n",
      "f = open('../data/manhattan_small.csv', 'rb')\n",
      "csvreader = csv.reader(f)\n",
      "small_data = list(csvreader)[1:]\n",
      "\n",
      "lon_small, lat_small, counts_small = zip(*small_data)\n",
      "\n",
      "lon_small = [float(i) for i in lon_small]\n",
      "lat_small = [float(i) for i in lat_small]\n",
      "counts_small = np.array([float(i) for i in counts_small])\n",
      "\n",
      "loc_small = np.array(zip(lon_small, lat_small))\n",
      "\n",
      "log_counts_small = np.log(counts_small)"
     ],
     "language": "python",
     "metadata": {},
     "outputs": [],
     "prompt_number": 53
    },
    {
     "cell_type": "markdown",
     "metadata": {},
     "source": [
      "-----------------------------\n",
      "------------------------------\n",
      "--------------"
     ]
    }
   ],
   "metadata": {}
  }
 ]
}