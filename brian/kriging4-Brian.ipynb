{
 "metadata": {
  "name": ""
 },
 "nbformat": 3,
 "nbformat_minor": 0,
 "worksheets": [
  {
   "cells": [
    {
     "cell_type": "heading",
     "level": 4,
     "metadata": {},
     "source": [
      "This file focuses on marginal likelihood as a way of evaluating models"
     ]
    },
    {
     "cell_type": "code",
     "collapsed": false,
     "input": [
      "import csv\n",
      "import numpy as np\n",
      "%matplotlib inline\n",
      "import matplotlib\n",
      "import matplotlib.pyplot as plt\n",
      "# from mpl_toolkits.basemap import Basemap\n",
      "from scipy.stats import poisson\n",
      "import math\n",
      "from random import randrange\n",
      "\n",
      "import csv\n",
      "import time"
     ],
     "language": "python",
     "metadata": {},
     "outputs": [],
     "prompt_number": 1
    },
    {
     "cell_type": "code",
     "collapsed": false,
     "input": [
      "f = open('../data/manhattan_train.csv', 'rb')\n",
      "freader = csv.reader(f)\n",
      "data = list(freader)[1:]\n",
      "lon, lat, counts = zip(*data)\n",
      "\n",
      "lon_coords = [float(i) for i in lon]\n",
      "lat_coords = [float(i) for i in lat]\n",
      "counts = np.array([float(i) for i in counts])\n",
      "\n",
      "loc = np.array(zip(lon_coords, lat_coords))\n",
      "log_counts = np.log(counts)"
     ],
     "language": "python",
     "metadata": {},
     "outputs": [],
     "prompt_number": 2
    },
    {
     "cell_type": "heading",
     "level": 4,
     "metadata": {},
     "source": [
      "Distance matrix only needs to be computed once"
     ]
    },
    {
     "cell_type": "code",
     "collapsed": false,
     "input": [
      "FACTOR = 0.7581\n",
      "EARTH_RADIUS = 3959\n",
      "\n",
      "def build_distance_matrix(locs1, locs2):\n",
      "    lons1, lats1 = locs1[:,0], locs1[:,1]\n",
      "    lons2, lats2 = locs2[:,0], locs2[:,1]\n",
      "    dlon12 = lons2 - lons1[:, None]\n",
      "    dlat12 = lats2 - lats1[:, None]\n",
      "    D12 = np.sqrt(np.square(dlon12*FACTOR) + np.square(dlat12))\n",
      "    D12 = D12/360*(2*math.pi)*EARTH_RADIUS\n",
      "    return D12"
     ],
     "language": "python",
     "metadata": {},
     "outputs": [],
     "prompt_number": 19
    },
    {
     "cell_type": "code",
     "collapsed": false,
     "input": [
      "D = build_distance_matrix(loc, loc)\n",
      "print np.shape(D)\n",
      "n = len(D)\n",
      "print n"
     ],
     "language": "python",
     "metadata": {},
     "outputs": [
      {
       "output_type": "stream",
       "stream": "stdout",
       "text": [
        "(3144L, 3144L)\n",
        "3144\n"
       ]
      }
     ],
     "prompt_number": 29
    },
    {
     "cell_type": "heading",
     "level": 4,
     "metadata": {},
     "source": [
      "Definition of log marginal likelihood"
     ]
    },
    {
     "cell_type": "code",
     "collapsed": false,
     "input": [
      "# Define relevant functions that act on D\n",
      "def matern_3(x,L):\n",
      "    return (1+math.sqrt(3)*x/L)*np.exp(-math.sqrt(3)*x/L)\n",
      "def g(x,L):\n",
      "    return (3*np.square(x)/L**3)*np.exp(-math.sqrt(3)*x/L)"
     ],
     "language": "python",
     "metadata": {},
     "outputs": [],
     "prompt_number": 61
    },
    {
     "cell_type": "code",
     "collapsed": false,
     "input": [],
     "language": "python",
     "metadata": {},
     "outputs": []
    },
    {
     "cell_type": "code",
     "collapsed": false,
     "input": [
      "def log_ml(L, v_f, v_n):\n",
      "    M = matern_3(D,L)\n",
      "    K = v_f**2*M + v_n**2*np.eye(n)\n",
      "    K_inv = np.linalg.inv(K)\n",
      "    max_K = np.max(K)\n",
      "    det_K = np.linalg.det(K / max_K)\n",
      "    return -0.5*np.dot(np.dot(np.transpose(log_counts), K_inv), log_counts) - 0.5 * math.log(det_K) - n / 2. * math.log(2 * math.pi)"
     ],
     "language": "python",
     "metadata": {},
     "outputs": [],
     "prompt_number": 42
    },
    {
     "cell_type": "code",
     "collapsed": false,
     "input": [
      "np.max(K)"
     ],
     "language": "python",
     "metadata": {},
     "outputs": [
      {
       "metadata": {},
       "output_type": "pyout",
       "prompt_number": 58,
       "text": [
        "34.0"
       ]
      }
     ],
     "prompt_number": 58
    },
    {
     "cell_type": "code",
     "collapsed": false,
     "input": [
      "np.linalg.det(K/np.max(K))"
     ],
     "language": "python",
     "metadata": {},
     "outputs": [
      {
       "metadata": {},
       "output_type": "pyout",
       "prompt_number": 60,
       "text": [
        "2.2365054946329565e-308"
       ]
      }
     ],
     "prompt_number": 60
    },
    {
     "cell_type": "code",
     "collapsed": false,
     "input": [
      "start = time.time()\n",
      "test = log_ml(0.5, 3, 5)\n",
      "end = time.time()\n",
      "print end - start"
     ],
     "language": "python",
     "metadata": {},
     "outputs": [
      {
       "output_type": "stream",
       "stream": "stdout",
       "text": [
        "7.63100004196\n"
       ]
      }
     ],
     "prompt_number": 43
    },
    {
     "cell_type": "code",
     "collapsed": false,
     "input": [
      "log_ml(0.5, 3, 5)"
     ],
     "language": "python",
     "metadata": {},
     "outputs": [
      {
       "metadata": {},
       "output_type": "pyout",
       "prompt_number": 44,
       "text": [
        "-88.659810557382855"
       ]
      }
     ],
     "prompt_number": 44
    },
    {
     "cell_type": "code",
     "collapsed": false,
     "input": [
      "L = 0.5\n",
      "sigma_f = 3\n",
      "sigma_n = 5\n",
      "M = matern_3(D,L)\n",
      "K = sigma_f**2*M + sigma_n**2*np.eye(n)"
     ],
     "language": "python",
     "metadata": {},
     "outputs": [],
     "prompt_number": 47
    },
    {
     "cell_type": "code",
     "collapsed": false,
     "input": [
      "np.linalg.det(K)"
     ],
     "language": "python",
     "metadata": {},
     "outputs": [
      {
       "metadata": {},
       "output_type": "pyout",
       "prompt_number": 48,
       "text": [
        "inf"
       ]
      }
     ],
     "prompt_number": 48
    },
    {
     "cell_type": "code",
     "collapsed": false,
     "input": [
      "K"
     ],
     "language": "python",
     "metadata": {},
     "outputs": [
      {
       "metadata": {},
       "output_type": "pyout",
       "prompt_number": 49,
       "text": [
        "array([[  3.40000000e+01,   6.16641186e+00,   5.32951935e-01, ...,\n",
        "          1.73161296e-10,   3.50044962e-01,   1.36081696e-04],\n",
        "       [  6.16641186e+00,   3.40000000e+01,   9.59916314e-01, ...,\n",
        "          5.83342455e-11,   2.81060444e-01,   4.89730870e-05],\n",
        "       [  5.32951935e-01,   9.59916314e-01,   3.40000000e+01, ...,\n",
        "          4.43334716e-12,   6.57267642e-01,   1.10272805e-05],\n",
        "       ..., \n",
        "       [  1.73161296e-10,   5.83342455e-11,   4.43334716e-12, ...,\n",
        "          3.40000000e+01,   9.99722903e-11,   9.47269007e-06],\n",
        "       [  3.50044962e-01,   2.81060444e-01,   6.57267642e-01, ...,\n",
        "          9.99722903e-11,   3.40000000e+01,   4.02143558e-04],\n",
        "       [  1.36081696e-04,   4.89730870e-05,   1.10272805e-05, ...,\n",
        "          9.47269007e-06,   4.02143558e-04,   3.40000000e+01]])"
       ]
      }
     ],
     "prompt_number": 49
    },
    {
     "cell_type": "code",
     "collapsed": false,
     "input": [
      "K[1:5,1:5]"
     ],
     "language": "python",
     "metadata": {},
     "outputs": [
      {
       "metadata": {},
       "output_type": "pyout",
       "prompt_number": 52,
       "text": [
        "array([[  3.40000000e+01,   9.59916314e-01,   4.35880646e-02,\n",
        "          3.15379669e-01],\n",
        "       [  9.59916314e-01,   3.40000000e+01,   1.24272072e-02,\n",
        "          2.95861093e+00],\n",
        "       [  4.35880646e-02,   1.24272072e-02,   3.40000000e+01,\n",
        "          1.56770620e-03],\n",
        "       [  3.15379669e-01,   2.95861093e+00,   1.56770620e-03,\n",
        "          3.40000000e+01]])"
       ]
      }
     ],
     "prompt_number": 52
    },
    {
     "cell_type": "code",
     "collapsed": false,
     "input": [
      "np.linalg.det(K[1:5,1:5])"
     ],
     "language": "python",
     "metadata": {},
     "outputs": [
      {
       "metadata": {},
       "output_type": "pyout",
       "prompt_number": 54,
       "text": [
        "1325095.5144870596"
       ]
      }
     ],
     "prompt_number": 54
    },
    {
     "cell_type": "code",
     "collapsed": false,
     "input": [
      "np.linalg.det(K[1:5,1:5]/10)*10**4"
     ],
     "language": "python",
     "metadata": {},
     "outputs": [
      {
       "metadata": {},
       "output_type": "pyout",
       "prompt_number": 56,
       "text": [
        "1325095.5144870582"
       ]
      }
     ],
     "prompt_number": 56
    },
    {
     "cell_type": "code",
     "collapsed": false,
     "input": [],
     "language": "python",
     "metadata": {},
     "outputs": []
    }
   ],
   "metadata": {}
  }
 ]
}